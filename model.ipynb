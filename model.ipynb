{
 "cells": [
  {
   "cell_type": "code",
   "execution_count": 108,
   "id": "46a5d312",
   "metadata": {},
   "outputs": [],
   "source": [
    "import pandas as pd\n",
    "import numpy as np\n",
    "import matplotlib.pyplot as plt\n",
    "import seaborn as sns"
   ]
  },
  {
   "cell_type": "code",
   "execution_count": 12,
   "id": "8ff6cfb4",
   "metadata": {},
   "outputs": [],
   "source": [
    "apple1=pd.read_csv(\"AAPL Historical Data.csv\")"
   ]
  },
  {
   "cell_type": "code",
   "execution_count": 14,
   "id": "5accec56",
   "metadata": {},
   "outputs": [],
   "source": [
    "apple2=pd.read_csv(\"AAPL Historical Data (1).csv\")"
   ]
  },
  {
   "cell_type": "code",
   "execution_count": 41,
   "id": "a2b354a6",
   "metadata": {},
   "outputs": [],
   "source": [
    "apple=pd.concat([apple2,apple1 ]).reset_index(drop=True)"
   ]
  },
  {
   "cell_type": "code",
   "execution_count": 42,
   "id": "ae02fd08",
   "metadata": {},
   "outputs": [
    {
     "data": {
      "text/html": [
       "<div>\n",
       "<style scoped>\n",
       "    .dataframe tbody tr th:only-of-type {\n",
       "        vertical-align: middle;\n",
       "    }\n",
       "\n",
       "    .dataframe tbody tr th {\n",
       "        vertical-align: top;\n",
       "    }\n",
       "\n",
       "    .dataframe thead th {\n",
       "        text-align: right;\n",
       "    }\n",
       "</style>\n",
       "<table border=\"1\" class=\"dataframe\">\n",
       "  <thead>\n",
       "    <tr style=\"text-align: right;\">\n",
       "      <th></th>\n",
       "      <th>Date</th>\n",
       "      <th>Price</th>\n",
       "      <th>Open</th>\n",
       "      <th>High</th>\n",
       "      <th>Low</th>\n",
       "      <th>Vol.</th>\n",
       "      <th>Change %</th>\n",
       "    </tr>\n",
       "  </thead>\n",
       "  <tbody>\n",
       "    <tr>\n",
       "      <th>0</th>\n",
       "      <td>07/21/2023</td>\n",
       "      <td>191.94</td>\n",
       "      <td>194.10</td>\n",
       "      <td>194.97</td>\n",
       "      <td>191.23</td>\n",
       "      <td>71.95M</td>\n",
       "      <td>-0.62%</td>\n",
       "    </tr>\n",
       "    <tr>\n",
       "      <th>1</th>\n",
       "      <td>07/20/2023</td>\n",
       "      <td>193.13</td>\n",
       "      <td>195.09</td>\n",
       "      <td>196.47</td>\n",
       "      <td>192.49</td>\n",
       "      <td>59.58M</td>\n",
       "      <td>-1.01%</td>\n",
       "    </tr>\n",
       "    <tr>\n",
       "      <th>2</th>\n",
       "      <td>07/19/2023</td>\n",
       "      <td>195.10</td>\n",
       "      <td>193.10</td>\n",
       "      <td>198.23</td>\n",
       "      <td>192.65</td>\n",
       "      <td>80.51M</td>\n",
       "      <td>0.71%</td>\n",
       "    </tr>\n",
       "    <tr>\n",
       "      <th>3</th>\n",
       "      <td>07/18/2023</td>\n",
       "      <td>193.73</td>\n",
       "      <td>193.35</td>\n",
       "      <td>194.33</td>\n",
       "      <td>192.41</td>\n",
       "      <td>48.20M</td>\n",
       "      <td>-0.13%</td>\n",
       "    </tr>\n",
       "    <tr>\n",
       "      <th>4</th>\n",
       "      <td>07/17/2023</td>\n",
       "      <td>193.99</td>\n",
       "      <td>191.90</td>\n",
       "      <td>194.32</td>\n",
       "      <td>191.81</td>\n",
       "      <td>49.84M</td>\n",
       "      <td>1.73%</td>\n",
       "    </tr>\n",
       "    <tr>\n",
       "      <th>...</th>\n",
       "      <td>...</td>\n",
       "      <td>...</td>\n",
       "      <td>...</td>\n",
       "      <td>...</td>\n",
       "      <td>...</td>\n",
       "      <td>...</td>\n",
       "      <td>...</td>\n",
       "    </tr>\n",
       "    <tr>\n",
       "      <th>8436</th>\n",
       "      <td>01/26/1990</td>\n",
       "      <td>0.29</td>\n",
       "      <td>0.30</td>\n",
       "      <td>0.30</td>\n",
       "      <td>0.29</td>\n",
       "      <td>181.25M</td>\n",
       "      <td>-3.33%</td>\n",
       "    </tr>\n",
       "    <tr>\n",
       "      <th>8437</th>\n",
       "      <td>01/25/1990</td>\n",
       "      <td>0.30</td>\n",
       "      <td>0.31</td>\n",
       "      <td>0.31</td>\n",
       "      <td>0.30</td>\n",
       "      <td>111.54M</td>\n",
       "      <td>0.00%</td>\n",
       "    </tr>\n",
       "    <tr>\n",
       "      <th>8438</th>\n",
       "      <td>01/24/1990</td>\n",
       "      <td>0.30</td>\n",
       "      <td>0.29</td>\n",
       "      <td>0.31</td>\n",
       "      <td>0.29</td>\n",
       "      <td>169.79M</td>\n",
       "      <td>0.00%</td>\n",
       "    </tr>\n",
       "    <tr>\n",
       "      <th>8439</th>\n",
       "      <td>01/23/1990</td>\n",
       "      <td>0.30</td>\n",
       "      <td>0.30</td>\n",
       "      <td>0.31</td>\n",
       "      <td>0.29</td>\n",
       "      <td>140.87M</td>\n",
       "      <td>0.00%</td>\n",
       "    </tr>\n",
       "    <tr>\n",
       "      <th>8440</th>\n",
       "      <td>01/22/1990</td>\n",
       "      <td>0.30</td>\n",
       "      <td>0.30</td>\n",
       "      <td>0.31</td>\n",
       "      <td>0.30</td>\n",
       "      <td>145.61M</td>\n",
       "      <td>-3.23%</td>\n",
       "    </tr>\n",
       "  </tbody>\n",
       "</table>\n",
       "<p>8441 rows × 7 columns</p>\n",
       "</div>"
      ],
      "text/plain": [
       "            Date   Price    Open    High     Low     Vol. Change %\n",
       "0     07/21/2023  191.94  194.10  194.97  191.23   71.95M   -0.62%\n",
       "1     07/20/2023  193.13  195.09  196.47  192.49   59.58M   -1.01%\n",
       "2     07/19/2023  195.10  193.10  198.23  192.65   80.51M    0.71%\n",
       "3     07/18/2023  193.73  193.35  194.33  192.41   48.20M   -0.13%\n",
       "4     07/17/2023  193.99  191.90  194.32  191.81   49.84M    1.73%\n",
       "...          ...     ...     ...     ...     ...      ...      ...\n",
       "8436  01/26/1990    0.29    0.30    0.30    0.29  181.25M   -3.33%\n",
       "8437  01/25/1990    0.30    0.31    0.31    0.30  111.54M    0.00%\n",
       "8438  01/24/1990    0.30    0.29    0.31    0.29  169.79M    0.00%\n",
       "8439  01/23/1990    0.30    0.30    0.31    0.29  140.87M    0.00%\n",
       "8440  01/22/1990    0.30    0.30    0.31    0.30  145.61M   -3.23%\n",
       "\n",
       "[8441 rows x 7 columns]"
      ]
     },
     "execution_count": 42,
     "metadata": {},
     "output_type": "execute_result"
    }
   ],
   "source": [
    "apple"
   ]
  },
  {
   "cell_type": "code",
   "execution_count": 58,
   "id": "b8ef5e89",
   "metadata": {},
   "outputs": [
    {
     "data": {
      "text/plain": [
       "Date               0\n",
       "Price              0\n",
       "Open               0\n",
       "High               0\n",
       "Low                0\n",
       "Vol.               0\n",
       "Change %           0\n",
       "yesterday_price    0\n",
       "dtype: int64"
      ]
     },
     "execution_count": 58,
     "metadata": {},
     "output_type": "execute_result"
    }
   ],
   "source": [
    "apple.isnull().sum()"
   ]
  },
  {
   "cell_type": "code",
   "execution_count": 57,
   "id": "ba517619",
   "metadata": {},
   "outputs": [],
   "source": [
    "apple.dropna(inplace=True)"
   ]
  },
  {
   "cell_type": "code",
   "execution_count": 10,
   "id": "959c032e",
   "metadata": {},
   "outputs": [],
   "source": [
    "apple=apple.iloc[::-1]"
   ]
  },
  {
   "cell_type": "code",
   "execution_count": 52,
   "id": "77af34d4",
   "metadata": {},
   "outputs": [],
   "source": [
    "apple['yesterday_price'] = apple['Price'].shift(-1)"
   ]
  },
  {
   "cell_type": "code",
   "execution_count": 53,
   "id": "25304448",
   "metadata": {},
   "outputs": [
    {
     "data": {
      "text/html": [
       "<div>\n",
       "<style scoped>\n",
       "    .dataframe tbody tr th:only-of-type {\n",
       "        vertical-align: middle;\n",
       "    }\n",
       "\n",
       "    .dataframe tbody tr th {\n",
       "        vertical-align: top;\n",
       "    }\n",
       "\n",
       "    .dataframe thead th {\n",
       "        text-align: right;\n",
       "    }\n",
       "</style>\n",
       "<table border=\"1\" class=\"dataframe\">\n",
       "  <thead>\n",
       "    <tr style=\"text-align: right;\">\n",
       "      <th></th>\n",
       "      <th>Date</th>\n",
       "      <th>Price</th>\n",
       "      <th>Open</th>\n",
       "      <th>High</th>\n",
       "      <th>Low</th>\n",
       "      <th>Vol.</th>\n",
       "      <th>Change %</th>\n",
       "      <th>yesterday_price</th>\n",
       "    </tr>\n",
       "  </thead>\n",
       "  <tbody>\n",
       "    <tr>\n",
       "      <th>0</th>\n",
       "      <td>07/21/2023</td>\n",
       "      <td>191.94</td>\n",
       "      <td>194.10</td>\n",
       "      <td>194.97</td>\n",
       "      <td>191.23</td>\n",
       "      <td>71.95M</td>\n",
       "      <td>-0.62%</td>\n",
       "      <td>193.13</td>\n",
       "    </tr>\n",
       "    <tr>\n",
       "      <th>1</th>\n",
       "      <td>07/20/2023</td>\n",
       "      <td>193.13</td>\n",
       "      <td>195.09</td>\n",
       "      <td>196.47</td>\n",
       "      <td>192.49</td>\n",
       "      <td>59.58M</td>\n",
       "      <td>-1.01%</td>\n",
       "      <td>195.10</td>\n",
       "    </tr>\n",
       "    <tr>\n",
       "      <th>2</th>\n",
       "      <td>07/19/2023</td>\n",
       "      <td>195.10</td>\n",
       "      <td>193.10</td>\n",
       "      <td>198.23</td>\n",
       "      <td>192.65</td>\n",
       "      <td>80.51M</td>\n",
       "      <td>0.71%</td>\n",
       "      <td>193.73</td>\n",
       "    </tr>\n",
       "    <tr>\n",
       "      <th>3</th>\n",
       "      <td>07/18/2023</td>\n",
       "      <td>193.73</td>\n",
       "      <td>193.35</td>\n",
       "      <td>194.33</td>\n",
       "      <td>192.41</td>\n",
       "      <td>48.20M</td>\n",
       "      <td>-0.13%</td>\n",
       "      <td>193.99</td>\n",
       "    </tr>\n",
       "    <tr>\n",
       "      <th>4</th>\n",
       "      <td>07/17/2023</td>\n",
       "      <td>193.99</td>\n",
       "      <td>191.90</td>\n",
       "      <td>194.32</td>\n",
       "      <td>191.81</td>\n",
       "      <td>49.84M</td>\n",
       "      <td>1.73%</td>\n",
       "      <td>190.69</td>\n",
       "    </tr>\n",
       "    <tr>\n",
       "      <th>...</th>\n",
       "      <td>...</td>\n",
       "      <td>...</td>\n",
       "      <td>...</td>\n",
       "      <td>...</td>\n",
       "      <td>...</td>\n",
       "      <td>...</td>\n",
       "      <td>...</td>\n",
       "      <td>...</td>\n",
       "    </tr>\n",
       "    <tr>\n",
       "      <th>8436</th>\n",
       "      <td>01/26/1990</td>\n",
       "      <td>0.29</td>\n",
       "      <td>0.30</td>\n",
       "      <td>0.30</td>\n",
       "      <td>0.29</td>\n",
       "      <td>181.25M</td>\n",
       "      <td>-3.33%</td>\n",
       "      <td>0.30</td>\n",
       "    </tr>\n",
       "    <tr>\n",
       "      <th>8437</th>\n",
       "      <td>01/25/1990</td>\n",
       "      <td>0.30</td>\n",
       "      <td>0.31</td>\n",
       "      <td>0.31</td>\n",
       "      <td>0.30</td>\n",
       "      <td>111.54M</td>\n",
       "      <td>0.00%</td>\n",
       "      <td>0.30</td>\n",
       "    </tr>\n",
       "    <tr>\n",
       "      <th>8438</th>\n",
       "      <td>01/24/1990</td>\n",
       "      <td>0.30</td>\n",
       "      <td>0.29</td>\n",
       "      <td>0.31</td>\n",
       "      <td>0.29</td>\n",
       "      <td>169.79M</td>\n",
       "      <td>0.00%</td>\n",
       "      <td>0.30</td>\n",
       "    </tr>\n",
       "    <tr>\n",
       "      <th>8439</th>\n",
       "      <td>01/23/1990</td>\n",
       "      <td>0.30</td>\n",
       "      <td>0.30</td>\n",
       "      <td>0.31</td>\n",
       "      <td>0.29</td>\n",
       "      <td>140.87M</td>\n",
       "      <td>0.00%</td>\n",
       "      <td>0.30</td>\n",
       "    </tr>\n",
       "    <tr>\n",
       "      <th>8440</th>\n",
       "      <td>01/22/1990</td>\n",
       "      <td>0.30</td>\n",
       "      <td>0.30</td>\n",
       "      <td>0.31</td>\n",
       "      <td>0.30</td>\n",
       "      <td>145.61M</td>\n",
       "      <td>-3.23%</td>\n",
       "      <td>NaN</td>\n",
       "    </tr>\n",
       "  </tbody>\n",
       "</table>\n",
       "<p>8441 rows × 8 columns</p>\n",
       "</div>"
      ],
      "text/plain": [
       "            Date   Price    Open    High     Low     Vol. Change %  \\\n",
       "0     07/21/2023  191.94  194.10  194.97  191.23   71.95M   -0.62%   \n",
       "1     07/20/2023  193.13  195.09  196.47  192.49   59.58M   -1.01%   \n",
       "2     07/19/2023  195.10  193.10  198.23  192.65   80.51M    0.71%   \n",
       "3     07/18/2023  193.73  193.35  194.33  192.41   48.20M   -0.13%   \n",
       "4     07/17/2023  193.99  191.90  194.32  191.81   49.84M    1.73%   \n",
       "...          ...     ...     ...     ...     ...      ...      ...   \n",
       "8436  01/26/1990    0.29    0.30    0.30    0.29  181.25M   -3.33%   \n",
       "8437  01/25/1990    0.30    0.31    0.31    0.30  111.54M    0.00%   \n",
       "8438  01/24/1990    0.30    0.29    0.31    0.29  169.79M    0.00%   \n",
       "8439  01/23/1990    0.30    0.30    0.31    0.29  140.87M    0.00%   \n",
       "8440  01/22/1990    0.30    0.30    0.31    0.30  145.61M   -3.23%   \n",
       "\n",
       "      yesterday_price  \n",
       "0              193.13  \n",
       "1              195.10  \n",
       "2              193.73  \n",
       "3              193.99  \n",
       "4              190.69  \n",
       "...               ...  \n",
       "8436             0.30  \n",
       "8437             0.30  \n",
       "8438             0.30  \n",
       "8439             0.30  \n",
       "8440              NaN  \n",
       "\n",
       "[8441 rows x 8 columns]"
      ]
     },
     "execution_count": 53,
     "metadata": {},
     "output_type": "execute_result"
    }
   ],
   "source": [
    "apple"
   ]
  },
  {
   "cell_type": "code",
   "execution_count": 67,
   "id": "647f3feb",
   "metadata": {},
   "outputs": [],
   "source": [
    "def split_date(date):\n",
    "    day=date.split(\"/\")[1]\n",
    "    month=date.split(\"/\")[0]\n",
    "    year=date.split(\"/\")[2]\n",
    "    return day,month,year"
   ]
  },
  {
   "cell_type": "code",
   "execution_count": 66,
   "id": "481df36b",
   "metadata": {},
   "outputs": [
    {
     "data": {
      "text/plain": [
       "'2007'"
      ]
     },
     "execution_count": 66,
     "metadata": {},
     "output_type": "execute_result"
    }
   ],
   "source": [
    "d=\"20/5/2007\"\n",
    "d.split(\"/\")[2]"
   ]
  },
  {
   "cell_type": "code",
   "execution_count": 72,
   "id": "31572709",
   "metadata": {},
   "outputs": [],
   "source": [
    "apple[['day','month','year']]=apple['Date'].apply(split_date).tolist()"
   ]
  },
  {
   "cell_type": "code",
   "execution_count": 76,
   "id": "4b863a10",
   "metadata": {},
   "outputs": [],
   "source": [
    "apple.drop(['Date','High','Low'],axis='columns',inplace=True)"
   ]
  },
  {
   "cell_type": "code",
   "execution_count": 77,
   "id": "fe08b769",
   "metadata": {},
   "outputs": [
    {
     "data": {
      "text/html": [
       "<div>\n",
       "<style scoped>\n",
       "    .dataframe tbody tr th:only-of-type {\n",
       "        vertical-align: middle;\n",
       "    }\n",
       "\n",
       "    .dataframe tbody tr th {\n",
       "        vertical-align: top;\n",
       "    }\n",
       "\n",
       "    .dataframe thead th {\n",
       "        text-align: right;\n",
       "    }\n",
       "</style>\n",
       "<table border=\"1\" class=\"dataframe\">\n",
       "  <thead>\n",
       "    <tr style=\"text-align: right;\">\n",
       "      <th></th>\n",
       "      <th>Price</th>\n",
       "      <th>Open</th>\n",
       "      <th>Vol.</th>\n",
       "      <th>Change %</th>\n",
       "      <th>yesterday_price</th>\n",
       "      <th>day</th>\n",
       "      <th>month</th>\n",
       "      <th>year</th>\n",
       "    </tr>\n",
       "  </thead>\n",
       "  <tbody>\n",
       "    <tr>\n",
       "      <th>0</th>\n",
       "      <td>191.94</td>\n",
       "      <td>194.10</td>\n",
       "      <td>71.95M</td>\n",
       "      <td>-0.62%</td>\n",
       "      <td>193.13</td>\n",
       "      <td>21</td>\n",
       "      <td>07</td>\n",
       "      <td>2023</td>\n",
       "    </tr>\n",
       "    <tr>\n",
       "      <th>1</th>\n",
       "      <td>193.13</td>\n",
       "      <td>195.09</td>\n",
       "      <td>59.58M</td>\n",
       "      <td>-1.01%</td>\n",
       "      <td>195.10</td>\n",
       "      <td>20</td>\n",
       "      <td>07</td>\n",
       "      <td>2023</td>\n",
       "    </tr>\n",
       "    <tr>\n",
       "      <th>2</th>\n",
       "      <td>195.10</td>\n",
       "      <td>193.10</td>\n",
       "      <td>80.51M</td>\n",
       "      <td>0.71%</td>\n",
       "      <td>193.73</td>\n",
       "      <td>19</td>\n",
       "      <td>07</td>\n",
       "      <td>2023</td>\n",
       "    </tr>\n",
       "    <tr>\n",
       "      <th>3</th>\n",
       "      <td>193.73</td>\n",
       "      <td>193.35</td>\n",
       "      <td>48.20M</td>\n",
       "      <td>-0.13%</td>\n",
       "      <td>193.99</td>\n",
       "      <td>18</td>\n",
       "      <td>07</td>\n",
       "      <td>2023</td>\n",
       "    </tr>\n",
       "    <tr>\n",
       "      <th>4</th>\n",
       "      <td>193.99</td>\n",
       "      <td>191.90</td>\n",
       "      <td>49.84M</td>\n",
       "      <td>1.73%</td>\n",
       "      <td>190.69</td>\n",
       "      <td>17</td>\n",
       "      <td>07</td>\n",
       "      <td>2023</td>\n",
       "    </tr>\n",
       "    <tr>\n",
       "      <th>...</th>\n",
       "      <td>...</td>\n",
       "      <td>...</td>\n",
       "      <td>...</td>\n",
       "      <td>...</td>\n",
       "      <td>...</td>\n",
       "      <td>...</td>\n",
       "      <td>...</td>\n",
       "      <td>...</td>\n",
       "    </tr>\n",
       "    <tr>\n",
       "      <th>8435</th>\n",
       "      <td>0.30</td>\n",
       "      <td>0.29</td>\n",
       "      <td>119.93M</td>\n",
       "      <td>3.45%</td>\n",
       "      <td>0.29</td>\n",
       "      <td>29</td>\n",
       "      <td>01</td>\n",
       "      <td>1990</td>\n",
       "    </tr>\n",
       "    <tr>\n",
       "      <th>8436</th>\n",
       "      <td>0.29</td>\n",
       "      <td>0.30</td>\n",
       "      <td>181.25M</td>\n",
       "      <td>-3.33%</td>\n",
       "      <td>0.30</td>\n",
       "      <td>26</td>\n",
       "      <td>01</td>\n",
       "      <td>1990</td>\n",
       "    </tr>\n",
       "    <tr>\n",
       "      <th>8437</th>\n",
       "      <td>0.30</td>\n",
       "      <td>0.31</td>\n",
       "      <td>111.54M</td>\n",
       "      <td>0.00%</td>\n",
       "      <td>0.30</td>\n",
       "      <td>25</td>\n",
       "      <td>01</td>\n",
       "      <td>1990</td>\n",
       "    </tr>\n",
       "    <tr>\n",
       "      <th>8438</th>\n",
       "      <td>0.30</td>\n",
       "      <td>0.29</td>\n",
       "      <td>169.79M</td>\n",
       "      <td>0.00%</td>\n",
       "      <td>0.30</td>\n",
       "      <td>24</td>\n",
       "      <td>01</td>\n",
       "      <td>1990</td>\n",
       "    </tr>\n",
       "    <tr>\n",
       "      <th>8439</th>\n",
       "      <td>0.30</td>\n",
       "      <td>0.30</td>\n",
       "      <td>140.87M</td>\n",
       "      <td>0.00%</td>\n",
       "      <td>0.30</td>\n",
       "      <td>23</td>\n",
       "      <td>01</td>\n",
       "      <td>1990</td>\n",
       "    </tr>\n",
       "  </tbody>\n",
       "</table>\n",
       "<p>8439 rows × 8 columns</p>\n",
       "</div>"
      ],
      "text/plain": [
       "       Price    Open     Vol. Change %  yesterday_price day month  year\n",
       "0     191.94  194.10   71.95M   -0.62%           193.13  21    07  2023\n",
       "1     193.13  195.09   59.58M   -1.01%           195.10  20    07  2023\n",
       "2     195.10  193.10   80.51M    0.71%           193.73  19    07  2023\n",
       "3     193.73  193.35   48.20M   -0.13%           193.99  18    07  2023\n",
       "4     193.99  191.90   49.84M    1.73%           190.69  17    07  2023\n",
       "...      ...     ...      ...      ...              ...  ..   ...   ...\n",
       "8435    0.30    0.29  119.93M    3.45%             0.29  29    01  1990\n",
       "8436    0.29    0.30  181.25M   -3.33%             0.30  26    01  1990\n",
       "8437    0.30    0.31  111.54M    0.00%             0.30  25    01  1990\n",
       "8438    0.30    0.29  169.79M    0.00%             0.30  24    01  1990\n",
       "8439    0.30    0.30  140.87M    0.00%             0.30  23    01  1990\n",
       "\n",
       "[8439 rows x 8 columns]"
      ]
     },
     "execution_count": 77,
     "metadata": {},
     "output_type": "execute_result"
    }
   ],
   "source": [
    "apple"
   ]
  },
  {
   "cell_type": "code",
   "execution_count": 84,
   "id": "42041418",
   "metadata": {},
   "outputs": [
    {
     "data": {
      "text/plain": [
       "'22000'"
      ]
     },
     "execution_count": 84,
     "metadata": {},
     "output_type": "execute_result"
    }
   ],
   "source": [
    "d=\"22M\"\n",
    "s=int(d.split('M')[0])*"
   ]
  },
  {
   "cell_type": "code",
   "execution_count": 90,
   "id": "051acd13",
   "metadata": {},
   "outputs": [],
   "source": [
    "def vol_remake (vol):\n",
    "    chars=['M','B','K']\n",
    "    for c in chars:\n",
    "        if c in vol:\n",
    "            if c == \"M\":\n",
    "                vol=float(vol.split(c)[0])*1000000\n",
    "            if c == \"B\":\n",
    "                vol=float(vol.split(c)[0])*1000000000\n",
    "            if c == \"K\":\n",
    "                vol=float(vol.split(c)[0])*1000\n",
    "            return vol"
   ]
  },
  {
   "cell_type": "code",
   "execution_count": 91,
   "id": "7593626c",
   "metadata": {},
   "outputs": [],
   "source": [
    "apple['volume']=apple['Vol.'].apply(vol_remake)"
   ]
  },
  {
   "cell_type": "code",
   "execution_count": 95,
   "id": "3b8fd9a0",
   "metadata": {},
   "outputs": [],
   "source": [
    "apple.drop(['Vol.'],axis='columns',inplace=True)"
   ]
  },
  {
   "cell_type": "code",
   "execution_count": 99,
   "id": "7960d019",
   "metadata": {},
   "outputs": [],
   "source": [
    "apple['change']=apple['Change %'].apply(lambda x:x.split(\"%\")[0])"
   ]
  },
  {
   "cell_type": "code",
   "execution_count": 102,
   "id": "b25f1021",
   "metadata": {},
   "outputs": [],
   "source": [
    "apple.drop(['Change %'],axis='columns',inplace=True)"
   ]
  },
  {
   "cell_type": "code",
   "execution_count": 105,
   "id": "92f6b816",
   "metadata": {},
   "outputs": [],
   "source": [
    "apple=apple.astype(float)"
   ]
  },
  {
   "cell_type": "code",
   "execution_count": 106,
   "id": "c00acea0",
   "metadata": {},
   "outputs": [
    {
     "data": {
      "text/html": [
       "<div>\n",
       "<style scoped>\n",
       "    .dataframe tbody tr th:only-of-type {\n",
       "        vertical-align: middle;\n",
       "    }\n",
       "\n",
       "    .dataframe tbody tr th {\n",
       "        vertical-align: top;\n",
       "    }\n",
       "\n",
       "    .dataframe thead th {\n",
       "        text-align: right;\n",
       "    }\n",
       "</style>\n",
       "<table border=\"1\" class=\"dataframe\">\n",
       "  <thead>\n",
       "    <tr style=\"text-align: right;\">\n",
       "      <th></th>\n",
       "      <th>Price</th>\n",
       "      <th>Open</th>\n",
       "      <th>yesterday_price</th>\n",
       "      <th>day</th>\n",
       "      <th>month</th>\n",
       "      <th>year</th>\n",
       "      <th>volume</th>\n",
       "      <th>change</th>\n",
       "    </tr>\n",
       "  </thead>\n",
       "  <tbody>\n",
       "    <tr>\n",
       "      <th>0</th>\n",
       "      <td>191.94</td>\n",
       "      <td>194.10</td>\n",
       "      <td>193.13</td>\n",
       "      <td>21.0</td>\n",
       "      <td>7.0</td>\n",
       "      <td>2023.0</td>\n",
       "      <td>71950000.0</td>\n",
       "      <td>-0.62</td>\n",
       "    </tr>\n",
       "    <tr>\n",
       "      <th>1</th>\n",
       "      <td>193.13</td>\n",
       "      <td>195.09</td>\n",
       "      <td>195.10</td>\n",
       "      <td>20.0</td>\n",
       "      <td>7.0</td>\n",
       "      <td>2023.0</td>\n",
       "      <td>59580000.0</td>\n",
       "      <td>-1.01</td>\n",
       "    </tr>\n",
       "    <tr>\n",
       "      <th>2</th>\n",
       "      <td>195.10</td>\n",
       "      <td>193.10</td>\n",
       "      <td>193.73</td>\n",
       "      <td>19.0</td>\n",
       "      <td>7.0</td>\n",
       "      <td>2023.0</td>\n",
       "      <td>80510000.0</td>\n",
       "      <td>0.71</td>\n",
       "    </tr>\n",
       "    <tr>\n",
       "      <th>3</th>\n",
       "      <td>193.73</td>\n",
       "      <td>193.35</td>\n",
       "      <td>193.99</td>\n",
       "      <td>18.0</td>\n",
       "      <td>7.0</td>\n",
       "      <td>2023.0</td>\n",
       "      <td>48200000.0</td>\n",
       "      <td>-0.13</td>\n",
       "    </tr>\n",
       "    <tr>\n",
       "      <th>4</th>\n",
       "      <td>193.99</td>\n",
       "      <td>191.90</td>\n",
       "      <td>190.69</td>\n",
       "      <td>17.0</td>\n",
       "      <td>7.0</td>\n",
       "      <td>2023.0</td>\n",
       "      <td>49840000.0</td>\n",
       "      <td>1.73</td>\n",
       "    </tr>\n",
       "    <tr>\n",
       "      <th>...</th>\n",
       "      <td>...</td>\n",
       "      <td>...</td>\n",
       "      <td>...</td>\n",
       "      <td>...</td>\n",
       "      <td>...</td>\n",
       "      <td>...</td>\n",
       "      <td>...</td>\n",
       "      <td>...</td>\n",
       "    </tr>\n",
       "    <tr>\n",
       "      <th>8435</th>\n",
       "      <td>0.30</td>\n",
       "      <td>0.29</td>\n",
       "      <td>0.29</td>\n",
       "      <td>29.0</td>\n",
       "      <td>1.0</td>\n",
       "      <td>1990.0</td>\n",
       "      <td>119930000.0</td>\n",
       "      <td>3.45</td>\n",
       "    </tr>\n",
       "    <tr>\n",
       "      <th>8436</th>\n",
       "      <td>0.29</td>\n",
       "      <td>0.30</td>\n",
       "      <td>0.30</td>\n",
       "      <td>26.0</td>\n",
       "      <td>1.0</td>\n",
       "      <td>1990.0</td>\n",
       "      <td>181250000.0</td>\n",
       "      <td>-3.33</td>\n",
       "    </tr>\n",
       "    <tr>\n",
       "      <th>8437</th>\n",
       "      <td>0.30</td>\n",
       "      <td>0.31</td>\n",
       "      <td>0.30</td>\n",
       "      <td>25.0</td>\n",
       "      <td>1.0</td>\n",
       "      <td>1990.0</td>\n",
       "      <td>111540000.0</td>\n",
       "      <td>0.00</td>\n",
       "    </tr>\n",
       "    <tr>\n",
       "      <th>8438</th>\n",
       "      <td>0.30</td>\n",
       "      <td>0.29</td>\n",
       "      <td>0.30</td>\n",
       "      <td>24.0</td>\n",
       "      <td>1.0</td>\n",
       "      <td>1990.0</td>\n",
       "      <td>169790000.0</td>\n",
       "      <td>0.00</td>\n",
       "    </tr>\n",
       "    <tr>\n",
       "      <th>8439</th>\n",
       "      <td>0.30</td>\n",
       "      <td>0.30</td>\n",
       "      <td>0.30</td>\n",
       "      <td>23.0</td>\n",
       "      <td>1.0</td>\n",
       "      <td>1990.0</td>\n",
       "      <td>140870000.0</td>\n",
       "      <td>0.00</td>\n",
       "    </tr>\n",
       "  </tbody>\n",
       "</table>\n",
       "<p>8439 rows × 8 columns</p>\n",
       "</div>"
      ],
      "text/plain": [
       "       Price    Open  yesterday_price   day  month    year       volume  \\\n",
       "0     191.94  194.10           193.13  21.0    7.0  2023.0   71950000.0   \n",
       "1     193.13  195.09           195.10  20.0    7.0  2023.0   59580000.0   \n",
       "2     195.10  193.10           193.73  19.0    7.0  2023.0   80510000.0   \n",
       "3     193.73  193.35           193.99  18.0    7.0  2023.0   48200000.0   \n",
       "4     193.99  191.90           190.69  17.0    7.0  2023.0   49840000.0   \n",
       "...      ...     ...              ...   ...    ...     ...          ...   \n",
       "8435    0.30    0.29             0.29  29.0    1.0  1990.0  119930000.0   \n",
       "8436    0.29    0.30             0.30  26.0    1.0  1990.0  181250000.0   \n",
       "8437    0.30    0.31             0.30  25.0    1.0  1990.0  111540000.0   \n",
       "8438    0.30    0.29             0.30  24.0    1.0  1990.0  169790000.0   \n",
       "8439    0.30    0.30             0.30  23.0    1.0  1990.0  140870000.0   \n",
       "\n",
       "      change  \n",
       "0      -0.62  \n",
       "1      -1.01  \n",
       "2       0.71  \n",
       "3      -0.13  \n",
       "4       1.73  \n",
       "...      ...  \n",
       "8435    3.45  \n",
       "8436   -3.33  \n",
       "8437    0.00  \n",
       "8438    0.00  \n",
       "8439    0.00  \n",
       "\n",
       "[8439 rows x 8 columns]"
      ]
     },
     "execution_count": 106,
     "metadata": {},
     "output_type": "execute_result"
    }
   ],
   "source": [
    "apple"
   ]
  },
  {
   "cell_type": "code",
   "execution_count": 115,
   "id": "db532409",
   "metadata": {},
   "outputs": [
    {
     "data": {
      "image/png": "[encoded data removed]",
      "text/plain": [
       "<Figure size 640x480 with 1 Axes>"
      ]
     },
     "metadata": {},
     "output_type": "display_data"
    }
   ],
   "source": [
    "sns.barplot(x=apple['year'],y=apple['Price'])\n",
    "plt.xticks(rotation=90)\n",
    "plt.show()"
   ]
  },
  {
   "cell_type": "code",
   "execution_count": 118,
   "id": "0aff955c",
   "metadata": {},
   "outputs": [
    {
     "data": {
      "image/png": "[encoded data removed]",
      "text/plain": [
       "<Figure size 640x480 with 1 Axes>"
      ]
     },
     "metadata": {},
     "output_type": "display_data"
    }
   ],
   "source": [
    "sns.lineplot(x='Open',y='Price',data=apple)\n",
    "plt.show()"
   ]
  },
  {
   "cell_type": "code",
   "execution_count": 119,
   "id": "49f73fe9",
   "metadata": {},
   "outputs": [
    {
     "data": {
      "image/png": "[encoded data removed]",
      "text/plain": [
       "<Figure size 640x480 with 1 Axes>"
      ]
     },
     "metadata": {},
     "output_type": "display_data"
    }
   ],
   "source": [
    "sns.lineplot(x='yesterday_price',y='Price',data=apple)\n",
    "plt.show()"
   ]
  },
  {
   "cell_type": "markdown",
   "id": "b65f0a67",
   "metadata": {},
   "source": [
    "sns.lineplot(x='volume',y='Price',data=apple)\n",
    "plt.show()"
   ]
  },
  {
   "cell_type": "code",
   "execution_count": 138,
   "id": "2a4f1835",
   "metadata": {},
   "outputs": [],
   "source": [
    "from sklearn.ensemble import RandomForestRegressor\n",
    "from sklearn.linear_model import LinearRegression\n",
    "from sklearn.linear_model import Lasso\n",
    "from sklearn.linear_model import Ridge\n",
    "from sklearn.preprocessing import StandardScaler\n",
    "from sklearn.model_selection import train_test_split,GridSearchCV\n",
    "from tqdm import tqdm"
   ]
  },
  {
   "cell_type": "code",
   "execution_count": 132,
   "id": "85f72a52",
   "metadata": {},
   "outputs": [],
   "source": [
    "X=apple.drop(['Price'],axis='columns')\n",
    "y=apple['Price']"
   ]
  },
  {
   "cell_type": "code",
   "execution_count": 134,
   "id": "97668903",
   "metadata": {},
   "outputs": [],
   "source": [
    "scaler=StandardScaler()\n",
    "X=scaler.fit_transform(X)"
   ]
  },
  {
   "cell_type": "code",
   "execution_count": 135,
   "id": "70a4572b",
   "metadata": {},
   "outputs": [],
   "source": [
    "X_train,X_test,y_train,y_test=train_test_split(X,y,random_state=24)"
   ]
  },
  {
   "cell_type": "code",
   "execution_count": 140,
   "id": "f4a85bb0",
   "metadata": {},
   "outputs": [],
   "source": [
    "model_params={\n",
    "    'linear':{\n",
    "        'model':LinearRegression(),\n",
    "        'params':{}\n",
    "    },\n",
    "    'lasso':{\n",
    "        'model':Lasso(),\n",
    "        'params':{\n",
    "            'selection':['cyclic', 'random']\n",
    "        }\n",
    "    },\n",
    "    \"ridge\":{\n",
    "        'model':Ridge(),\n",
    "        'params':{\n",
    "            'solver':['auto', 'svd', 'cholesky', 'lsqr', 'sparse_cg', 'sag', 'saga']\n",
    "        }\n",
    "    },\n",
    "}"
   ]
  },
  {
   "cell_type": "code",
   "execution_count": 141,
   "id": "47985bfb",
   "metadata": {},
   "outputs": [
    {
     "name": "stderr",
     "output_type": "stream",
     "text": [
      "  0%|          | 0/3 [00:00<?, ?it/s]C:\\Users\\Lenovo Ideapad L340\\anaconda3\\envs\\tf\\lib\\site-packages\\sklearn\\linear_model\\_coordinate_descent.py:648: ConvergenceWarning: Objective did not converge. You might want to increase the number of iterations, check the scale of the features or consider increasing regularisation. Duality gap: 1.371e+03, tolerance: 9.977e+02\n",
      "  model = cd_fast.enet_coordinate_descent(\n",
      "C:\\Users\\Lenovo Ideapad L340\\anaconda3\\envs\\tf\\lib\\site-packages\\sklearn\\linear_model\\_coordinate_descent.py:648: ConvergenceWarning: Objective did not converge. You might want to increase the number of iterations, check the scale of the features or consider increasing regularisation. Duality gap: 1.297e+03, tolerance: 1.031e+03\n",
      "  model = cd_fast.enet_coordinate_descent(\n",
      "C:\\Users\\Lenovo Ideapad L340\\anaconda3\\envs\\tf\\lib\\site-packages\\sklearn\\linear_model\\_coordinate_descent.py:648: ConvergenceWarning: Objective did not converge. You might want to increase the number of iterations, check the scale of the features or consider increasing regularisation. Duality gap: 1.602e+03, tolerance: 1.030e+03\n",
      "  model = cd_fast.enet_coordinate_descent(\n",
      "100%|██████████| 3/3 [00:00<00:00,  5.12it/s]\n"
     ]
    }
   ],
   "source": [
    "scores=[]\n",
    "for model_name, mp in tqdm(model_params.items()):\n",
    "    clf=GridSearchCV(mp['model'],mp['params'],cv=10,return_train_score=False)\n",
    "    clf.fit(X_train,y_train)\n",
    "    scores.append({\n",
    "        'model':model_name,\n",
    "        'best_score':clf.best_score_,\n",
    "        'best_params':clf.best_params_\n",
    "    })\n",
    "df=pd.DataFrame(scores,columns=['model','best_score','best_params'])"
   ]
  },
  {
   "cell_type": "code",
   "execution_count": 142,
   "id": "ec4493cf",
   "metadata": {},
   "outputs": [
    {
     "data": {
      "text/html": [
       "<div>\n",
       "<style scoped>\n",
       "    .dataframe tbody tr th:only-of-type {\n",
       "        vertical-align: middle;\n",
       "    }\n",
       "\n",
       "    .dataframe tbody tr th {\n",
       "        vertical-align: top;\n",
       "    }\n",
       "\n",
       "    .dataframe thead th {\n",
       "        text-align: right;\n",
       "    }\n",
       "</style>\n",
       "<table border=\"1\" class=\"dataframe\">\n",
       "  <thead>\n",
       "    <tr style=\"text-align: right;\">\n",
       "      <th></th>\n",
       "      <th>model</th>\n",
       "      <th>best_score</th>\n",
       "      <th>best_params</th>\n",
       "    </tr>\n",
       "  </thead>\n",
       "  <tbody>\n",
       "    <tr>\n",
       "      <th>0</th>\n",
       "      <td>linear</td>\n",
       "      <td>0.999701</td>\n",
       "      <td>{}</td>\n",
       "    </tr>\n",
       "    <tr>\n",
       "      <th>1</th>\n",
       "      <td>lasso</td>\n",
       "      <td>0.999117</td>\n",
       "      <td>{'selection': 'cyclic'}</td>\n",
       "    </tr>\n",
       "    <tr>\n",
       "      <th>2</th>\n",
       "      <td>ridge</td>\n",
       "      <td>0.999687</td>\n",
       "      <td>{'solver': 'lsqr'}</td>\n",
       "    </tr>\n",
       "  </tbody>\n",
       "</table>\n",
       "</div>"
      ],
      "text/plain": [
       "    model  best_score              best_params\n",
       "0  linear    0.999701                       {}\n",
       "1   lasso    0.999117  {'selection': 'cyclic'}\n",
       "2   ridge    0.999687       {'solver': 'lsqr'}"
      ]
     },
     "execution_count": 142,
     "metadata": {},
     "output_type": "execute_result"
    }
   ],
   "source": [
    "df"
   ]
  },
  {
   "cell_type": "code",
   "execution_count": 143,
   "id": "b4f6d1fc",
   "metadata": {},
   "outputs": [
    {
     "data": {
      "text/html": [
       "<style>#sk-container-id-1 {color: black;background-color: white;}#sk-container-id-1 pre{padding: 0;}#sk-container-id-1 div.sk-toggleable {background-color: white;}#sk-container-id-1 label.sk-toggleable__label {cursor: pointer;display: block;width: 100%;margin-bottom: 0;padding: 0.3em;box-sizing: border-box;text-align: center;}#sk-container-id-1 label.sk-toggleable__label-arrow:before {content: \"▸\";float: left;margin-right: 0.25em;color: #696969;}#sk-container-id-1 label.sk-toggleable__label-arrow:hover:before {color: black;}#sk-container-id-1 div.sk-estimator:hover label.sk-toggleable__label-arrow:before {color: black;}#sk-container-id-1 div.sk-toggleable__content {max-height: 0;max-width: 0;overflow: hidden;text-align: left;background-color: #f0f8ff;}#sk-container-id-1 div.sk-toggleable__content pre {margin: 0.2em;color: black;border-radius: 0.25em;background-color: #f0f8ff;}#sk-container-id-1 input.sk-toggleable__control:checked~div.sk-toggleable__content {max-height: 200px;max-width: 100%;overflow: auto;}#sk-container-id-1 input.sk-toggleable__control:checked~label.sk-toggleable__label-arrow:before {content: \"▾\";}#sk-container-id-1 div.sk-estimator input.sk-toggleable__control:checked~label.sk-toggleable__label {background-color: #d4ebff;}#sk-container-id-1 div.sk-label input.sk-toggleable__control:checked~label.sk-toggleable__label {background-color: #d4ebff;}#sk-container-id-1 input.sk-hidden--visually {border: 0;clip: rect(1px 1px 1px 1px);clip: rect(1px, 1px, 1px, 1px);height: 1px;margin: -1px;overflow: hidden;padding: 0;position: absolute;width: 1px;}#sk-container-id-1 div.sk-estimator {font-family: monospace;background-color: #f0f8ff;border: 1px dotted black;border-radius: 0.25em;box-sizing: border-box;margin-bottom: 0.5em;}#sk-container-id-1 div.sk-estimator:hover {background-color: #d4ebff;}#sk-container-id-1 div.sk-parallel-item::after {content: \"\";width: 100%;border-bottom: 1px solid gray;flex-grow: 1;}#sk-container-id-1 div.sk-label:hover label.sk-toggleable__label {background-color: #d4ebff;}#sk-container-id-1 div.sk-serial::before {content: \"\";position: absolute;border-left: 1px solid gray;box-sizing: border-box;top: 0;bottom: 0;left: 50%;z-index: 0;}#sk-container-id-1 div.sk-serial {display: flex;flex-direction: column;align-items: center;background-color: white;padding-right: 0.2em;padding-left: 0.2em;position: relative;}#sk-container-id-1 div.sk-item {position: relative;z-index: 1;}#sk-container-id-1 div.sk-parallel {display: flex;align-items: stretch;justify-content: center;background-color: white;position: relative;}#sk-container-id-1 div.sk-item::before, #sk-container-id-1 div.sk-parallel-item::before {content: \"\";position: absolute;border-left: 1px solid gray;box-sizing: border-box;top: 0;bottom: 0;left: 50%;z-index: -1;}#sk-container-id-1 div.sk-parallel-item {display: flex;flex-direction: column;z-index: 1;position: relative;background-color: white;}#sk-container-id-1 div.sk-parallel-item:first-child::after {align-self: flex-end;width: 50%;}#sk-container-id-1 div.sk-parallel-item:last-child::after {align-self: flex-start;width: 50%;}#sk-container-id-1 div.sk-parallel-item:only-child::after {width: 0;}#sk-container-id-1 div.sk-dashed-wrapped {border: 1px dashed gray;margin: 0 0.4em 0.5em 0.4em;box-sizing: border-box;padding-bottom: 0.4em;background-color: white;}#sk-container-id-1 div.sk-label label {font-family: monospace;font-weight: bold;display: inline-block;line-height: 1.2em;}#sk-container-id-1 div.sk-label-container {text-align: center;}#sk-container-id-1 div.sk-container {/* jupyter's `normalize.less` sets `[hidden] { display: none; }` but bootstrap.min.css set `[hidden] { display: none !important; }` so we also need the `!important` here to be able to override the default hidden behavior on the sphinx rendered scikit-learn.org. See: https://github.com/scikit-learn/scikit-learn/issues/21755 */display: inline-block !important;position: relative;}#sk-container-id-1 div.sk-text-repr-fallback {display: none;}</style><div id=\"sk-container-id-1\" class=\"sk-top-container\"><div class=\"sk-text-repr-fallback\"><pre>LinearRegression()</pre><b>In a Jupyter environment, please rerun this cell to show the HTML representation or trust the notebook. <br />On GitHub, the HTML representation is unable to render, please try loading this page with nbviewer.org.</b></div><div class=\"sk-container\" hidden><div class=\"sk-item\"><div class=\"sk-estimator sk-toggleable\"><input class=\"sk-toggleable__control sk-hidden--visually\" id=\"sk-estimator-id-1\" type=\"checkbox\" checked><label for=\"sk-estimator-id-1\" class=\"sk-toggleable__label sk-toggleable__label-arrow\">LinearRegression</label><div class=\"sk-toggleable__content\"><pre>LinearRegression()</pre></div></div></div></div></div>"
      ],
      "text/plain": [
       "LinearRegression()"
      ]
     },
     "execution_count": 143,
     "metadata": {},
     "output_type": "execute_result"
    }
   ],
   "source": [
    "model=LinearRegression()\n",
    "model.fit(X_train,y_train)"
   ]
  },
  {
   "cell_type": "code",
   "execution_count": 144,
   "id": "88f43553",
   "metadata": {},
   "outputs": [],
   "source": [
    "from sklearn.metrics import r2_score,mean_absolute_error\n"
   ]
  },
  {
   "cell_type": "code",
   "execution_count": 146,
   "id": "4406ce6c",
   "metadata": {},
   "outputs": [
    {
     "name": "stdout",
     "output_type": "stream",
     "text": [
      "R2 score 0.9997375820373523\n",
      "MAE 0.30991786467630894\n"
     ]
    }
   ],
   "source": [
    "y_pred = model.predict(X_test)\n",
    "\n",
    "print('R2 score',r2_score(y_test,y_pred))\n",
    "print('MAE',mean_absolute_error(y_test,y_pred))"
   ]
  },
  {
   "cell_type": "code",
   "execution_count": 147,
   "id": "0ad18a9e",
   "metadata": {},
   "outputs": [
    {
     "ename": "AttributeError",
     "evalue": "'LinearRegression' object has no attribute 'evaluate'",
     "output_type": "error",
     "traceback": [
      "\u001b[1;31m---------------------------------------------------------------------------\u001b[0m",
      "\u001b[1;31mAttributeError\u001b[0m                            Traceback (most recent call last)",
      "Cell \u001b[1;32mIn[147], line 1\u001b[0m\n\u001b[1;32m----> 1\u001b[0m \u001b[43mmodel\u001b[49m\u001b[38;5;241;43m.\u001b[39;49m\u001b[43mevaluate\u001b[49m(X_test,y_test)\n",
      "\u001b[1;31mAttributeError\u001b[0m: 'LinearRegression' object has no attribute 'evaluate'"
     ]
    }
   ],
   "source": []
  },
  {
   "cell_type": "code",
   "execution_count": null,
   "id": "4cf01eed",
   "metadata": {},
   "outputs": [],
   "source": []
  }
 ],
 "metadata": {
  "kernelspec": {
   "display_name": "Python 3 (ipykernel)",
   "language": "python",
   "name": "python3"
  },
  "language_info": {
   "codemirror_mode": {
    "name": "ipython",
    "version": 3
   },
   "file_extension": ".py",
   "mimetype": "text/x-python",
   "name": "python",
   "nbconvert_exporter": "python",
   "pygments_lexer": "ipython3",
   "version": "3.8.15"
  }
 },
 "nbformat": 4,
 "nbformat_minor": 5
}
